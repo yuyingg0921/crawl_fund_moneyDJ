{
 "cells": [
  {
   "cell_type": "code",
   "execution_count": 5,
   "metadata": {},
   "outputs": [],
   "source": [
    "#define simple dataset\n",
    "def createDataSet():  \n",
    "    dataSet = [[1,1,'yes'],  \n",
    "       [1,1,'yes'],  \n",
    "       [1,0,'no'],  \n",
    "       [0,1,'no'],  \n",
    "       [0,1,'no']]  \n",
    "    labels = ['no child','man']  \n",
    "    return dataSet, labels  "
   ]
  },
  {
   "cell_type": "code",
   "execution_count": 6,
   "metadata": {},
   "outputs": [],
   "source": [
    "#calculate entropy\n",
    "from math import log  \n",
    "import operator  \n",
    "def calcShannonEnt(dataSet):  \n",
    "    numEntries = len(dataSet)  \n",
    "    labelCounts = {}  \n",
    "    for featVec in dataSet:  \n",
    "        currentLabel = featVec[-1]  \n",
    "        if currentLabel not in labelCounts.keys():  \n",
    "            labelCounts[currentLabel] = 0  \n",
    "        labelCounts[currentLabel] += 1 \n",
    "        #else:  \n",
    "         #   labelCounts[currentLabel] += 1\n",
    "    shannonEnt = 0.0  \n",
    "    for key in labelCounts:  \n",
    "        #print(key)  \n",
    "        #print(labelCounts[key])  \n",
    "        prob = float(labelCounts[key])/numEntries  \n",
    "        #print(prob)  \n",
    "        shannonEnt -= prob * log(prob,2) \n",
    "    return shannonEnt  "
   ]
  },
  {
   "cell_type": "code",
   "execution_count": 7,
   "metadata": {},
   "outputs": [
    {
     "data": {
      "text/plain": [
       "[[1, 1, 'yes'], [1, 1, 'yes'], [1, 0, 'no'], [0, 1, 'no'], [0, 1, 'no']]"
      ]
     },
     "execution_count": 7,
     "metadata": {},
     "output_type": "execute_result"
    }
   ],
   "source": [
    "myDat,labels=createDataSet()  \n",
    "myDat "
   ]
  },
  {
   "cell_type": "code",
   "execution_count": 8,
   "metadata": {},
   "outputs": [
    {
     "data": {
      "text/plain": [
       "0.9709505944546686"
      ]
     },
     "execution_count": 8,
     "metadata": {},
     "output_type": "execute_result"
    }
   ],
   "source": [
    "calcShannonEnt(myDat) \n",
    "# -2/5log2/5-3/5log3/5=0.971"
   ]
  },
  {
   "cell_type": "code",
   "execution_count": 9,
   "metadata": {},
   "outputs": [],
   "source": [
    "def splitDataSet(dataSet, axis, value):  \n",
    "    retDataSet = []  \n",
    "    for featVec in dataSet:  \n",
    "        if featVec[axis] == value:  \n",
    "            reducedFeatVec = featVec[:axis]  \n",
    "            reducedFeatVec.extend(featVec[axis+1:])  \n",
    "            retDataSet.append(reducedFeatVec)  \n",
    "    #print(retDataSet)  \n",
    "    return retDataSet  "
   ]
  },
  {
   "cell_type": "code",
   "execution_count": 10,
   "metadata": {},
   "outputs": [
    {
     "data": {
      "text/plain": [
       "[[1, 'yes'], [1, 'yes'], [0, 'no']]"
      ]
     },
     "execution_count": 10,
     "metadata": {},
     "output_type": "execute_result"
    }
   ],
   "source": [
    "splitDataSet(myDat,0,1)  "
   ]
  },
  {
   "cell_type": "code",
   "execution_count": 11,
   "metadata": {},
   "outputs": [
    {
     "data": {
      "text/plain": [
       "[[1, 'no'], [1, 'no']]"
      ]
     },
     "execution_count": 11,
     "metadata": {},
     "output_type": "execute_result"
    }
   ],
   "source": [
    "splitDataSet(myDat,0,0) "
   ]
  },
  {
   "cell_type": "code",
   "execution_count": 12,
   "metadata": {},
   "outputs": [],
   "source": [
    "#calculate best feature \n",
    "def chooseBestFeatureToSplit(dataSet):  \n",
    "    numFeatures = len(dataSet[0]) - 1  \n",
    "    baseEntropy = calcShannonEnt(dataSet)  #baseEntropy\n",
    "    bestInfoGain = 0.0;bestFeature = -1  \n",
    "    for i in range(numFeatures):  \n",
    "        featList = [example[i] for example in dataSet]  \n",
    "        uniqueVals = set(featList)  \n",
    "        newEntropy = 0.0  \n",
    "        for value in uniqueVals:   #every value\n",
    "            subDataSet = splitDataSet(dataSet, i ,value)  \n",
    "            prob = len(subDataSet)/float(len(dataSet))  \n",
    "            newEntropy = prob * calcShannonEnt(subDataSet)  \n",
    "        infoGain = baseEntropy - newEntropy  # IG\n",
    "        #print(infoGain)  \n",
    "        if(infoGain > bestInfoGain):  \n",
    "            bestInfoGain = infoGain  \n",
    "            bestFeature = i  \n",
    "    return bestFeature  "
   ]
  },
  {
   "cell_type": "code",
   "execution_count": 13,
   "metadata": {},
   "outputs": [
    {
     "data": {
      "text/plain": [
       "[[1, 1, 'yes'], [1, 1, 'yes'], [1, 0, 'no'], [0, 1, 'no'], [0, 1, 'no']]"
      ]
     },
     "execution_count": 13,
     "metadata": {},
     "output_type": "execute_result"
    }
   ],
   "source": [
    "myDat,labels=createDataSet() \n",
    "myDat"
   ]
  },
  {
   "cell_type": "code",
   "execution_count": 14,
   "metadata": {},
   "outputs": [
    {
     "data": {
      "text/plain": [
       "['no surfacing', 'flippers']"
      ]
     },
     "execution_count": 14,
     "metadata": {},
     "output_type": "execute_result"
    }
   ],
   "source": [
    "labels"
   ]
  },
  {
   "cell_type": "code",
   "execution_count": 15,
   "metadata": {},
   "outputs": [
    {
     "data": {
      "text/plain": [
       "0"
      ]
     },
     "execution_count": 15,
     "metadata": {},
     "output_type": "execute_result"
    }
   ],
   "source": [
    "chooseBestFeatureToSplit(myDat)"
   ]
  },
  {
   "cell_type": "code",
   "execution_count": 16,
   "metadata": {},
   "outputs": [],
   "source": [
    "def majorityCnt(classList):  \n",
    "    classCount = {}  \n",
    "    for vote in classList:  \n",
    "        if vote not in classCount.keys():classCount[vote] = 0  \n",
    "        classCount[vote] += 1  \n",
    "    sortedClassCount  = sorted(classCount.iteritems(),key=operator.itemgetter(1), reverse=True)  \n",
    "    return sortedClassCount[0][0]  "
   ]
  },
  {
   "cell_type": "code",
   "execution_count": 17,
   "metadata": {},
   "outputs": [],
   "source": [
    "def createTree(dataSet,labels):  \n",
    "    classList = [example[-1] for example in dataSet]#将最后一行的数据放到classList中  \n",
    "    if classList.count(classList[0]) == len(classList):  \n",
    "        return classList[0]  \n",
    "    if len(dataSet[0]) == 1:#这里为什么是1呢？就是说特征数为1的时候  \n",
    "        return majorityCnt(classList)#就返回这个特征就行了，因为就这一个特征  \n",
    "    bestFeat = chooseBestFeatureToSplit(dataSet)  \n",
    "    print(bestFeat)  \n",
    "    bestFeatLabel = labels[bestFeat]#运行结果'no surfacing'  \n",
    "    myTree = {bestFeatLabel:{}}#运行结果{'no surfacing': {}}  \n",
    "    del(labels[bestFeat])  \n",
    "    featValues = [example[bestFeat] for example in dataSet]#第0个特征值  \n",
    "    uniqueVals = set(featValues)  \n",
    "    for value in uniqueVals:  \n",
    "        subLabels = labels[:]  \n",
    "        myTree[bestFeatLabel][value] = createTree(splitDataSet(dataSet,bestFeat,value),subLabels)  \n",
    "\n",
    "    return myTree  "
   ]
  },
  {
   "cell_type": "code",
   "execution_count": 18,
   "metadata": {},
   "outputs": [],
   "source": [
    "myDat,labels = createDataSet() "
   ]
  },
  {
   "cell_type": "code",
   "execution_count": 19,
   "metadata": {},
   "outputs": [
    {
     "name": "stdout",
     "output_type": "stream",
     "text": [
      "0\n",
      "0\n"
     ]
    }
   ],
   "source": [
    "myTree = createTree(myDat,labels) "
   ]
  },
  {
   "cell_type": "code",
   "execution_count": 20,
   "metadata": {},
   "outputs": [
    {
     "data": {
      "text/plain": [
       "{'no surfacing': {0: 'no', 1: {'flippers': {0: 'no', 1: 'yes'}}}}"
      ]
     },
     "execution_count": 20,
     "metadata": {},
     "output_type": "execute_result"
    }
   ],
   "source": [
    "myTree"
   ]
  },
  {
   "cell_type": "code",
   "execution_count": 21,
   "metadata": {},
   "outputs": [],
   "source": [
    "def getNumLeafs(myTree):  \n",
    "    numLeafs = 0  \n",
    "    #firstStr = myTree.keys()[0]  \n",
    "    firstStr = list(myTree)[0] \n",
    "    secondDict = myTree[firstStr]  \n",
    "    for key in secondDict.keys():  \n",
    "        if type(secondDict[key]).__name__=='dict':\n",
    "            numLeafs +=getNumLeafs(secondDict[key])  \n",
    "        else:  \n",
    "            numLeafs += 1  \n",
    "    return numLeafs  \n",
    "\n",
    "#树的层数  \n",
    "def getTreeDepth(myTree):  \n",
    "    maxDepth = 0  \n",
    "    firstStr = list(myTree)[0]  \n",
    "    secondDict = myTree[firstStr]  \n",
    "    for key in secondDict.keys():  \n",
    "        if type(secondDict[key]).__name__ == 'dict':  \n",
    "            thisDepth = 1 + getTreeDepth(secondDict[key])  \n",
    "            #print(123)  \n",
    "        else:  \n",
    "            thisDepth = 1  \n",
    "            #print(456)  \n",
    "        if thisDepth > maxDepth: maxDepth = thisDepth  \n",
    "    return maxDepth  "
   ]
  },
  {
   "cell_type": "code",
   "execution_count": 22,
   "metadata": {},
   "outputs": [],
   "source": [
    "#函数retrieveTree输出预先存储的树信息  \n",
    "#避免每次测试代码时都要从数据中创建树的麻烦  \n",
    "def retrieveTree(i):  \n",
    "    listOfTrees = [{'no child':{0:'no',1:{'man':{0:'no',1:'yes'}}}},  \n",
    "                   {'no child':{0:'no',1:{'woman':{0:{'head':{0:'no',1:'yes'}},1:'no'}}}}  \n",
    "                   ]  \n",
    "    return listOfTrees[i]  "
   ]
  },
  {
   "cell_type": "code",
   "execution_count": 23,
   "metadata": {},
   "outputs": [],
   "source": [
    "# -*- coding: cp936 -*-  \n",
    "import matplotlib.pyplot as plt  \n",
    "decisionNode = dict(boxstyle = \"sawtooth\",fc=\"0.8\")  \n",
    "leafNode = dict(boxstyle=\"round4\",fc=\"0.8\")  \n",
    "arrow_args = dict(arrowstyle=\"<-\")  \n",
    "  \n",
    "def plotNode(nodeTxt,centerPt,parentPt,nodeType):  \n",
    "    createPlot.ax1.annotate(nodeTxt,xy=parentPt,xycoords = 'axes fraction',xytext=centerPt,textcoords='axes fraction',va=\"center\",ha=\"center\",bbox=nodeType,arrowprops=arrow_args)  \n",
    "\n",
    "#画二叉树，实现和上面代码相似的功能  \n",
    "#1、计算父节点和子节点的中间位置  \n",
    "def plotMidText(cntrPt, parentPt, txtString):  \n",
    "    xMid = (parentPt[0]-cntrPt[0])/2.0 + cntrPt[0]  \n",
    "    yMid = (parentPt[1]-cntrPt[1])/2.0 + cntrPt[1]  \n",
    "    createPlot.ax1.text(xMid,yMid,txtString)#??  \n",
    "#绘制树的很多工作都是在这个函数中完成   \n",
    "def plotTree(myTree,parentPt,nodeTxt):  \n",
    "    #计算树的宽和高  \n",
    "    numLeafs = getNumLeafs(myTree)  \n",
    "    depth = getTreeDepth(myTree)  \n",
    "    firstStr = list(myTree)[0]  \n",
    "    cntrPt = (plotTree.xOff + (1.0 + float(numLeafs))/2.0/plotTree.totalW,plotTree.yOff)#??  \n",
    "    plotMidText(cntrPt,parentPt,nodeTxt)  \n",
    "    plotNode(firstStr, cntrPt, parentPt, decisionNode)  \n",
    "    secondDict = myTree[firstStr]  \n",
    "    plotTree.yOff = plotTree.yOff - 1.0/plotTree.totalD  \n",
    "    for key in secondDict.keys():  \n",
    "        if type(secondDict[key]).__name__ == 'dict':  \n",
    "            plotTree(secondDict[key],cntrPt,str(key))  \n",
    "        else:  \n",
    "            plotTree.xOff = plotTree.xOff + 1.0/plotTree.totalW  \n",
    "            plotNode(secondDict[key], (plotTree.xOff,plotTree.yOff), cntrPt, leafNode)  \n",
    "            plotMidText((plotTree.xOff,plotTree.yOff),cntrPt,str(key))  \n",
    "    plotTree.yOff = plotTree.yOff + 1.0/plotTree.totalD  \n",
    "\n",
    "def createPlot(inTree):  \n",
    "    fig = plt.figure(1, facecolor='white')  \n",
    "    fig.clf()  \n",
    "    axprops = dict(xticks=[],yticks=[])  \n",
    "    createPlot.ax1 = plt.subplot(111,frameon=False, **axprops)  \n",
    "    plotTree.totalW = float(getNumLeafs(inTree))  \n",
    "    plotTree.totalD = float(getTreeDepth(inTree))  \n",
    "    plotTree.xOff = -0.5/plotTree.totalW;plotTree.yOff = 1.0;  \n",
    "    print(plotTree.xOff,plotTree.yOff)  \n",
    "    #plotTree.xOff = 1.0;plotTree.yOff = 1.0;  \n",
    "    plotTree(inTree, (0.5,1.0), '')  \n",
    "    plt.show()      "
   ]
  },
  {
   "cell_type": "code",
   "execution_count": 24,
   "metadata": {},
   "outputs": [],
   "source": [
    "myTree=retrieveTree(0)  "
   ]
  },
  {
   "cell_type": "code",
   "execution_count": 25,
   "metadata": {},
   "outputs": [
    {
     "name": "stdout",
     "output_type": "stream",
     "text": [
      "-0.16666666666666666 1.0\n"
     ]
    },
    {
     "data": {
      "image/png": "[encoded data removed]",
      "text/plain": [
       "<matplotlib.figure.Figure at 0x7ff0457e0c50>"
      ]
     },
     "metadata": {},
     "output_type": "display_data"
    }
   ],
   "source": [
    "createPlot(myTree) "
   ]
  },
  {
   "cell_type": "code",
   "execution_count": null,
   "metadata": {},
   "outputs": [],
   "source": []
  },
  {
   "cell_type": "code",
   "execution_count": null,
   "metadata": {},
   "outputs": [],
   "source": []
  }
 ],
 "metadata": {
  "kernelspec": {
   "display_name": "Python 3",
   "language": "python",
   "name": "python3"
  },
  "language_info": {
   "codemirror_mode": {
    "name": "ipython",
    "version": 3
   },
   "file_extension": ".py",
   "mimetype": "text/x-python",
   "name": "python",
   "nbconvert_exporter": "python",
   "pygments_lexer": "ipython3",
   "version": "3.6.5"
  }
 },
 "nbformat": 4,
 "nbformat_minor": 2
}
